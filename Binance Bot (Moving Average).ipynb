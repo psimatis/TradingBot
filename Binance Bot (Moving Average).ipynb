{
 "cells": [
  {
   "cell_type": "markdown",
   "id": "65928ac3",
   "metadata": {},
   "source": [
    "# Binance Trading bot"
   ]
  },
  {
   "cell_type": "markdown",
   "id": "1fcd20f5",
   "metadata": {},
   "source": [
    "Notes:\n",
    "1. Order according to moving average and volatility.\n",
    "1. The rolling window is initiliazed using historical prices. \n",
    "1. Binance does not allow historical klines shorter than 1 minute. But we can trade as frequent as we want.\n",
    "1. Some terminology. *Base*: means the crypto we are trading. *Quote*: Is the stablecoin we use (i.e., crypto pegged to US$).\n",
    "1. Add a *credentials.json* with your api keys in the same folder as the notebook.\n",
    "1. So far the script has only executed sell orders, because I kill it everyday when I go to work it never bought crypto.\n",
    "1. Api Documentation: https://python-binance.readthedocs.io/en/latest/index.html"
   ]
  },
  {
   "cell_type": "code",
   "execution_count": null,
   "id": "d2dfffe8",
   "metadata": {
    "scrolled": false
   },
   "outputs": [],
   "source": [
    "%matplotlib notebook\n",
    "\n",
    "import json\n",
    "import time\n",
    "import numpy as np\n",
    "from collections import defaultdict\n",
    "import matplotlib.pyplot as plt\n",
    "\n",
    "from binance.client import Client\n",
    "from binance.enums import *\n",
    "from binance.helpers import round_step_size"
   ]
  },
  {
   "cell_type": "markdown",
   "id": "9230baba",
   "metadata": {},
   "source": [
    "## Connect to server"
   ]
  },
  {
   "cell_type": "code",
   "execution_count": null,
   "id": "6a28d711",
   "metadata": {},
   "outputs": [],
   "source": [
    "creds = json.load(open('credentials.json'))\n",
    "\n",
    "client = Client(creds['api_key'], creds['api_secret'])\n",
    "msg = 'Problem connecting' if client.get_system_status()['status'] else 'Server is up'\n",
    "print(msg)"
   ]
  },
  {
   "cell_type": "markdown",
   "id": "70bed79a",
   "metadata": {},
   "source": [
    "## Parameters"
   ]
  },
  {
   "cell_type": "code",
   "execution_count": null,
   "id": "292f0d11",
   "metadata": {},
   "outputs": [],
   "source": [
    "base = 'BTC'\n",
    "quote = 'BUSD'\n",
    "pair = base + quote\n",
    "\n",
    "interval = 60 # check every X seconds\n",
    "windowSize = 300 # rolling window length\n",
    "\n",
    "diff = 3 # how many stds away from the avg you execute an order"
   ]
  },
  {
   "cell_type": "markdown",
   "id": "0d81d34a",
   "metadata": {},
   "source": [
    "## Functions"
   ]
  },
  {
   "cell_type": "code",
   "execution_count": null,
   "id": "c361e765",
   "metadata": {},
   "outputs": [],
   "source": [
    "# Gets current price of base denominated in quote\n",
    "def getPrice():\n",
    "    return float(client.get_symbol_ticker(symbol = pair)['price'])\n",
    "\n",
    "# Gets amount of base and quote assets that are free to trade (i.e., not held by an order)\n",
    "def getAssets():\n",
    "    assets = {}\n",
    "    wallet = client.get_account()['balances']\n",
    "    for a in wallet:\n",
    "        if a['asset'] == base:\n",
    "            assets[base] = float(a['free'])\n",
    "        if a['asset'] == quote:\n",
    "            assets[quote] = float(a['free'])\n",
    "    return assets   \n",
    "\n",
    "# Gets current balance in quote\n",
    "def getBalance():\n",
    "    baseVal = getPrice() * getAssets()[base]\n",
    "    quoteVal = getAssets()[quote]\n",
    "    return baseVal + quoteVal\n",
    "\n",
    "# Fills up the rolling window with historical prices\n",
    "def getHistory():\n",
    "    candles = client.get_klines(symbol = pair, interval = '1m') #candle length is 1 minute\n",
    "    return [float(c[4]) for c in candles[-windowSize:]] # c[4] returns the candle's close value\n",
    "\n",
    "# DANGER ZONE\n",
    "# Executes a market order\n",
    "# Use create_test_order(.) to test. If all goes well it returns {}\n",
    "def makeOrder(s):\n",
    "    if s == 'BUY':\n",
    "        q = getAssets()[quote]\n",
    "        return client.create_test_order(symbol = pair, side = s, type = 'MARKET', quoteOrderQty = q)\n",
    "    q = str(getAssets()[base]) \n",
    "    q = float(q[:-1])\n",
    "    return client.create_test_order(symbol = pair, side = s, type = 'MARKET', quantity = q)\n",
    "    \n",
    "def plot():\n",
    "    for i, s in enumerate(stats):\n",
    "        ax[i].plot(stats[s])\n",
    "        ax[i].title.set_text(s)\n",
    "    fig.tight_layout()\n",
    "    fig.canvas.draw()      "
   ]
  },
  {
   "cell_type": "markdown",
   "id": "0c5c6c70",
   "metadata": {},
   "source": [
    "## Trading loop"
   ]
  },
  {
   "cell_type": "code",
   "execution_count": null,
   "id": "dea19f32",
   "metadata": {
    "scrolled": false
   },
   "outputs": [],
   "source": [
    "stats = defaultdict(list)\n",
    "order = 'SELL' # the first order it will execute is to sell the base\n",
    "window = getHistory()\n",
    "\n",
    "fig, ax = plt.subplots(nrows = 4, ncols = 1, figsize = (10, 6))\n",
    "while True:  \n",
    "\n",
    "    window.append(getPrice())\n",
    "    window.pop(0)\n",
    "    \n",
    "    stats['avg'].append(np.average(window))\n",
    "    stats['std'].append(np.std(window))\n",
    "    \n",
    "    # buy crypto\n",
    "    if window[-1] <= stats['avg'][-1] - diff * stats['std'][-1] and order == 'BUY':\n",
    "        print(makeOrder('BUY'))\n",
    "        order = 'SELL'\n",
    "        \n",
    "    # sell crypto\n",
    "    elif window[-1] >= stats['avg'][-1] + diff * stats['std'][-1] and order == 'SELL':\n",
    "        print(makeOrder('SELL'))\n",
    "        order = 'BUY'\n",
    "\n",
    "    stats['value'].append(window[-1])\n",
    "    stats['balance'].append(getBalance())\n",
    "\n",
    "    plot()\n",
    "    time.sleep(interval)"
   ]
  }
 ],
 "metadata": {
  "kernelspec": {
   "display_name": "Python 3 (ipykernel)",
   "language": "python",
   "name": "python3"
  },
  "language_info": {
   "codemirror_mode": {
    "name": "ipython",
    "version": 3
   },
   "file_extension": ".py",
   "mimetype": "text/x-python",
   "name": "python",
   "nbconvert_exporter": "python",
   "pygments_lexer": "ipython3",
   "version": "3.9.7"
  }
 },
 "nbformat": 4,
 "nbformat_minor": 5
}
